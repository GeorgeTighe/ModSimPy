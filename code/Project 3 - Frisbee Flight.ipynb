{
 "cells": [
  {
   "cell_type": "markdown",
   "metadata": {},
   "source": [
    "# Project Three - Frisbee Flight\n",
    "Adi Sudhakar and George Tighe"
   ]
  },
  {
   "cell_type": "code",
   "execution_count": 11,
   "metadata": {},
   "outputs": [],
   "source": [
    "from modsim import *"
   ]
  },
  {
   "cell_type": "code",
   "execution_count": 12,
   "metadata": {},
   "outputs": [
    {
     "name": "stdout",
     "output_type": "stream",
     "text": [
      "[ 0  5 10 15 20 25 30 35 40 45 50 55 60 65 70 75 80 85 90]\n",
      "[-10  -5   0   5  10]\n"
     ]
    }
   ],
   "source": [
    "launch = SweepSeries()\n",
    "launch = linrange(0, 95, 5)\n",
    "aattack = SweepSeries()\n",
    "aattack = linrange(-10, 15, 5)\n",
    "print(launch)\n",
    "print(aattack)"
   ]
  },
  {
   "cell_type": "code",
   "execution_count": 13,
   "metadata": {},
   "outputs": [],
   "source": [
    "system = System(m = 0.175, d = 0.27, v0 = 15, launch = launch, aattack = aattack, g = -9.8, \n",
    "                p_air = 1.225)\n",
    "state = State(xpos = 0, zpos = 1.2, vx = 11, vz = 10)"
   ]
  },
  {
   "cell_type": "code",
   "execution_count": 9,
   "metadata": {},
   "outputs": [],
   "source": [
    "def drag(system, state):\n",
    "    unpack(system)\n",
    "    a0 = -4 #Deg. Angle of attack at minimum drag constant. Determined experimentally.\n",
    "    cd0 = 0.1769 #Determined experimentally. Skin friction and pressure drag.\n",
    "    cda = 0.685 #Determined experimentally. Induced drag.\n",
    "    A = 0.057 #m^2. Planform area of the frisbee\n",
    "    cdrag = cd0 + cda*(aattack-a0)**2 #Drag coefficient.\n",
    "    fdrag = (1/2)*p_air*A*cdrag*(v0**2) #Drag force.\n",
    "    print(cdrag)\n",
    "    return fdrag"
   ]
  },
  {
   "cell_type": "code",
   "execution_count": 10,
   "metadata": {},
   "outputs": [
    {
     "name": "stdout",
     "output_type": "stream",
     "text": [
      "[ 24.8369   0.8619  11.1369  55.6619 134.4369]\n",
      "[ 195.10161103    6.77049384   87.48382978  437.24161884 1056.04386103]\n"
     ]
    }
   ],
   "source": [
    "print(drag(system, state))"
   ]
  },
  {
   "cell_type": "code",
   "execution_count": 6,
   "metadata": {},
   "outputs": [],
   "source": [
    "def lift(system, state):\n",
    "    unpack(system)\n",
    "    cl0 = 0.3331 #Lift for 0 angle of attack.\n",
    "    cla = 1.9124 #Additional lift due to increased angle of attack.\n",
    "    A = 0.057 #m^2. Planform area of the frisbee\n",
    "    clift = cl0 + (cla*aattack) #Coefficient of lift.\n",
    "    flift = (1/2)*p_air*A*clift*v0**2 #Lift force.\n",
    "    return flift"
   ]
  },
  {
   "cell_type": "code",
   "execution_count": 7,
   "metadata": {},
   "outputs": [],
   "source": [
    "def updatethefunc(system, state, t):\n",
    "    unpack(system)\n",
    "    fvert = lift(system, state) - m*g\n",
    "    dvz = fvert * (t-(t-1)) / m\n",
    "    dvx = drag(system, state) / m\n",
    "    vzf = dvz + state.vz\n",
    "    vxf = dvx + state.vx\n",
    "    xposf = state.xpos + (state.vx*(t+(t-1)))\n",
    "    zposf = state.zpos + (state.vz*(t+(t-1)))\n",
    "    newstate = State(xpos = xposf, zpos = zposf, vx = vxf, vz = vzf)\n",
    "    return newstate"
   ]
  },
  {
   "cell_type": "code",
   "execution_count": 7,
   "metadata": {},
   "outputs": [
    {
     "name": "stdout",
     "output_type": "stream",
     "text": [
      "xpos                                                   99\n",
      "zpos                                                 91.2\n",
      "vx      [1125.8663487500005, 49.68853625000001, 510.90...\n",
      "vz      [-823.6765237500002, -394.46224875000013, 34.7...\n",
      "dtype: object\n"
     ]
    }
   ],
   "source": [
    "print(updatethefunc(system, state, 5))"
   ]
  },
  {
   "cell_type": "code",
   "execution_count": null,
   "metadata": {},
   "outputs": [],
   "source": [
    "def runsimulation():\n",
    "    frame = TimeFrame(columns = state.index)\n",
    "    frame.row[0] = state\n",
    "    ts = linrange(0, 100, 1)\n",
    "    for t in ts:\n",
    "        frame.row[t+1] = updatethefunc(system, frame.row, t)\n",
    "    return frame"
   ]
  }
 ],
 "metadata": {
  "kernelspec": {
   "display_name": "Python 3",
   "language": "python",
   "name": "python3"
  },
  "language_info": {
   "codemirror_mode": {
    "name": "ipython",
    "version": 3
   },
   "file_extension": ".py",
   "mimetype": "text/x-python",
   "name": "python",
   "nbconvert_exporter": "python",
   "pygments_lexer": "ipython3",
   "version": "3.6.6"
  }
 },
 "nbformat": 4,
 "nbformat_minor": 2
}
