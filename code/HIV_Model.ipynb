{
 "cells": [
  {
   "cell_type": "code",
   "execution_count": 14,
   "metadata": {},
   "outputs": [],
   "source": [
    "# Configure Jupyter so figures appear in the notebook\n",
    "%matplotlib inline\n",
    "\n",
    "# Configure Jupyter to display the assigned value after an assignment\n",
    "%config InteractiveShell.ast_node_interactivity='last_expr_or_assign'\n",
    "\n",
    "# import functions from the modsim library\n",
    "from modsim import *"
   ]
  },
  {
   "cell_type": "code",
   "execution_count": 15,
   "metadata": {},
   "outputs": [
    {
     "data": {
      "text/html": [
       "<div>\n",
       "<style scoped>\n",
       "    .dataframe tbody tr th:only-of-type {\n",
       "        vertical-align: middle;\n",
       "    }\n",
       "\n",
       "    .dataframe tbody tr th {\n",
       "        vertical-align: top;\n",
       "    }\n",
       "\n",
       "    .dataframe thead th {\n",
       "        text-align: right;\n",
       "    }\n",
       "</style>\n",
       "<table border=\"1\" class=\"dataframe\">\n",
       "  <thead>\n",
       "    <tr style=\"text-align: right;\">\n",
       "      <th></th>\n",
       "      <th>values</th>\n",
       "    </tr>\n",
       "  </thead>\n",
       "  <tbody>\n",
       "    <tr>\n",
       "      <th>R</th>\n",
       "      <td>1.000000e+03</td>\n",
       "    </tr>\n",
       "    <tr>\n",
       "      <th>L</th>\n",
       "      <td>0.000000e+00</td>\n",
       "    </tr>\n",
       "    <tr>\n",
       "      <th>E</th>\n",
       "      <td>0.000000e+00</td>\n",
       "    </tr>\n",
       "    <tr>\n",
       "      <th>V</th>\n",
       "      <td>4.000000e-07</td>\n",
       "    </tr>\n",
       "  </tbody>\n",
       "</table>\n",
       "</div>"
      ],
      "text/plain": [
       "R    1.000000e+03\n",
       "L    0.000000e+00\n",
       "E    0.000000e+00\n",
       "V    4.000000e-07\n",
       "dtype: float64"
      ]
     },
     "execution_count": 15,
     "metadata": {},
     "output_type": "execute_result"
    }
   ],
   "source": [
    "#Initial state including number of uninfected cells (V), latently infected cells (L), actively infected\n",
    "#cells (R), and free virions (E)\n",
    "V0 = 4E-7\n",
    "L0 = 0\n",
    "R0 = 1000\n",
    "E0 = 0\n",
    "state = State(R = R0, L = L0, E = E0, V = V0)"
   ]
  },
  {
   "cell_type": "code",
   "execution_count": 21,
   "metadata": {},
   "outputs": [
    {
     "data": {
      "text/html": [
       "<div>\n",
       "<style scoped>\n",
       "    .dataframe tbody tr th:only-of-type {\n",
       "        vertical-align: middle;\n",
       "    }\n",
       "\n",
       "    .dataframe tbody tr th {\n",
       "        vertical-align: top;\n",
       "    }\n",
       "\n",
       "    .dataframe thead th {\n",
       "        text-align: right;\n",
       "    }\n",
       "</style>\n",
       "<table border=\"1\" class=\"dataframe\">\n",
       "  <thead>\n",
       "    <tr style=\"text-align: right;\">\n",
       "      <th></th>\n",
       "      <th>values</th>\n",
       "    </tr>\n",
       "  </thead>\n",
       "  <tbody>\n",
       "    <tr>\n",
       "      <th>g</th>\n",
       "      <td>1.360000</td>\n",
       "    </tr>\n",
       "    <tr>\n",
       "      <th>t</th>\n",
       "      <td>0.200000</td>\n",
       "    </tr>\n",
       "    <tr>\n",
       "      <th>mu</th>\n",
       "      <td>0.001360</td>\n",
       "    </tr>\n",
       "    <tr>\n",
       "      <th>beta</th>\n",
       "      <td>0.000270</td>\n",
       "    </tr>\n",
       "    <tr>\n",
       "      <th>p</th>\n",
       "      <td>0.100000</td>\n",
       "    </tr>\n",
       "    <tr>\n",
       "      <th>a</th>\n",
       "      <td>0.036000</td>\n",
       "    </tr>\n",
       "    <tr>\n",
       "      <th>d</th>\n",
       "      <td>0.330000</td>\n",
       "    </tr>\n",
       "    <tr>\n",
       "      <th>pi</th>\n",
       "      <td>100.000000</td>\n",
       "    </tr>\n",
       "    <tr>\n",
       "      <th>sigma</th>\n",
       "      <td>2.000000</td>\n",
       "    </tr>\n",
       "    <tr>\n",
       "      <th>t0</th>\n",
       "      <td>0.000000</td>\n",
       "    </tr>\n",
       "    <tr>\n",
       "      <th>tf</th>\n",
       "      <td>2880.000000</td>\n",
       "    </tr>\n",
       "    <tr>\n",
       "      <th>dt</th>\n",
       "      <td>0.041667</td>\n",
       "    </tr>\n",
       "  </tbody>\n",
       "</table>\n",
       "</div>"
      ],
      "text/plain": [
       "g           1.360000\n",
       "t           0.200000\n",
       "mu          0.001360\n",
       "beta        0.000270\n",
       "p           0.100000\n",
       "a           0.036000\n",
       "d           0.330000\n",
       "pi        100.000000\n",
       "sigma       2.000000\n",
       "t0          0.000000\n",
       "tf       2880.000000\n",
       "dt          0.041667\n",
       "dtype: float64"
      ]
     },
     "execution_count": 21,
     "metadata": {},
     "output_type": "execute_result"
    }
   ],
   "source": [
    "#Defining the system, includes each parameter as defined in the paper\n",
    "#g = increase rate of uninfected cells, mu = HIV-independent death rate of uninfected cells\n",
    "#t = proportion of cells activated, beta = infection rate per virion\n",
    "#p = proportion of cells becoming latently infected upon infection\n",
    "#alpha = latently infected cells activation rate, sigma = removal rate of cell-free virus\n",
    "#delta = death rate of actively infected cells, pi = rate of production of virions\n",
    "#t0 = start time (0), tf = end time (500), dt = time step (1/24)\n",
    "g = 1.36\n",
    "mu = 1.36E-3\n",
    "t = 0.2\n",
    "beta = 0.00027\n",
    "p = 0.1\n",
    "a = 3.6E-2\n",
    "sigma = 2\n",
    "d = 0.33\n",
    "pi = 100\n",
    "dt = 1/24\n",
    "system = System(g = g, t = t, mu = mu, beta = beta, p = p, a = a, d = d, pi = pi, sigma = sigma, t0 = 0, tf = 2880, dt = dt)"
   ]
  },
  {
   "cell_type": "code",
   "execution_count": 22,
   "metadata": {},
   "outputs": [],
   "source": [
    "#Runs the simulation, updating the state and inputting each state into a time frame.\n",
    "def runsimulation(system):\n",
    "    frame = TimeFrame(columns = state.index)\n",
    "    frame.row[system.t0] = state\n",
    "    for t in linrange(system.t0, system.tf):\n",
    "        frame.row[t+1] = update(system,frame.row[t])\n",
    "    return frame"
   ]
  },
  {
   "cell_type": "code",
   "execution_count": 23,
   "metadata": {},
   "outputs": [],
   "source": [
    "#Updates each state. Each differential equation corresponding to each group tracked is approximately\n",
    "#integrated over the time interval, in this case an hour. This change is added to the previous values.\n",
    "#The function returns a new state with the updated variables.\n",
    "\n",
    "def update(system, state):\n",
    "    unpack(system)\n",
    "    R1 = ((g*t) - (mu*state.R) - (beta*state.R*state.V))*(dt) + state.R\n",
    "    L1 = ((p*beta*state.R*state.V) - (mu*state.L) - (a*state.L))*(dt) + state.L\n",
    "    E1 = (((1-p)*beta*state.R*state.V) + (a*state.L) - (d*state.E))*(dt) + state.E\n",
    "    V1 = ((pi*E1) - (sigma*state.V))*(dt) + state.V\n",
    "    return State(R = R1, L = L1, E = E1, V = V1)"
   ]
  },
  {
   "cell_type": "code",
   "execution_count": 24,
   "metadata": {},
   "outputs": [
    {
     "data": {
      "image/png": "[encoded data removed]",
      "text/plain": [
       "<Figure size 432x288 with 1 Axes>"
      ]
     },
     "metadata": {},
     "output_type": "display_data"
    }
   ],
   "source": [
    "#Records the data frame and plots the values over time.\n",
    "data = runsimulation(system)\n",
    "plot(data.index, data['R'], label = 'Uninfected Cells')\n",
    "plot(data.index, data['L'], label = 'Latently Infected Cells')\n",
    "plot(data.index, data['E'], label = 'Actively Infected Cells')\n",
    "plot(data.index, data['V'], label = 'Free Virions')\n",
    "decorate(title = 'HIV Model', xlabel = 'Time (hours)', ylabel = 'Number')"
   ]
  },
  {
   "cell_type": "code",
   "execution_count": 25,
   "metadata": {},
   "outputs": [
    {
     "data": {
      "image/png": "[encoded data removed]",
      "text/plain": [
       "<Figure size 432x288 with 1 Axes>"
      ]
     },
     "metadata": {},
     "output_type": "display_data"
    }
   ],
   "source": [
    "#Plots only R, L, and E for clarity.\n",
    "plot(data.index, data['R'], label = 'Uninfected Cells')\n",
    "plot(data.index, data['L'], label = 'Latently Infected Cells')\n",
    "plot(data.index, data['E'], label = 'Actively Infected Cells')\n",
    "decorate(title = 'HIV Model', xlabel = 'Time (hours)', ylabel = 'Number')"
   ]
  },
  {
   "cell_type": "code",
   "execution_count": null,
   "metadata": {},
   "outputs": [],
   "source": []
  }
 ],
 "metadata": {
  "kernelspec": {
   "display_name": "Python 3",
   "language": "python",
   "name": "python3"
  },
  "language_info": {
   "codemirror_mode": {
    "name": "ipython",
    "version": 3
   },
   "file_extension": ".py",
   "mimetype": "text/x-python",
   "name": "python",
   "nbconvert_exporter": "python",
   "pygments_lexer": "ipython3",
   "version": "3.6.6"
  }
 },
 "nbformat": 4,
 "nbformat_minor": 2
}
