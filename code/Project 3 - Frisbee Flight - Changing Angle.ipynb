{
 "cells": [
  {
   "cell_type": "markdown",
   "metadata": {},
   "source": [
    "# Project Three - Frisbee Flight\n",
    "Adi Sudhakar and George Tighe"
   ]
  },
  {
   "cell_type": "code",
   "execution_count": 1,
   "metadata": {},
   "outputs": [],
   "source": [
    "from modsim import *"
   ]
  },
  {
   "cell_type": "code",
   "execution_count": 71,
   "metadata": {},
   "outputs": [
    {
     "name": "stdout",
     "output_type": "stream",
     "text": [
      "0.17453292519943295\n",
      "0.17453292519943295\n"
     ]
    }
   ],
   "source": [
    "#launch = SweepSeries()\n",
    "#launch = linrange(0, 95, 5)\n",
    "#aattack = SweepSeries()\n",
    "#aattack = linrange(-10, 15, 5)\n",
    "launch = 10*pi/180\n",
    "aattack = 10*pi/180\n",
    "print(launch)\n",
    "print(aattack)"
   ]
  },
  {
   "cell_type": "code",
   "execution_count": 72,
   "metadata": {},
   "outputs": [],
   "source": [
    "system = System(m = 0.175, d = 0.27, v0 = 15, launch = launch, aattack = aattack, g = 9.8, \n",
    "                p_air = 1.23, dt = 0.05)\n",
    "state = State(xpos = 0, zpos = 1, vx = 15, vz = 0, alpha = aattack)"
   ]
  },
  {
   "cell_type": "code",
   "execution_count": 73,
   "metadata": {},
   "outputs": [],
   "source": [
    "def drag(system, state):\n",
    "    unpack(system)\n",
    "    A = 0.057 #m^2. Planform area of the frisbee\n",
    "    cd = 0.08 + ((state.alpha+4)*pi/180)**2\n",
    "    fdrag = p_air*A*cd*(state.vx**2)\n",
    "        \n",
    "    return fdrag"
   ]
  },
  {
   "cell_type": "code",
   "execution_count": 74,
   "metadata": {},
   "outputs": [
    {
     "name": "stdout",
     "output_type": "stream",
     "text": [
      "1.3457200087451435\n"
     ]
    }
   ],
   "source": [
    "print(drag(system, state))"
   ]
  },
  {
   "cell_type": "code",
   "execution_count": 75,
   "metadata": {},
   "outputs": [],
   "source": [
    "def lift(system, state):\n",
    "    unpack(system)\n",
    "    A = 0.057 #m^2. Planform area of the frisbee\n",
    "    cl = 0.1 + (1.4*state.alpha*pi/180)\n",
    "    flift = (1/2)*p_air*A*cl*(state.vx**2) #Lift force.\n",
    "    return flift"
   ]
  },
  {
   "cell_type": "code",
   "execution_count": 76,
   "metadata": {},
   "outputs": [
    {
     "name": "stdout",
     "output_type": "stream",
     "text": [
      "0.8223743454994628\n"
     ]
    }
   ],
   "source": [
    "print(lift(system,state))"
   ]
  },
  {
   "cell_type": "code",
   "execution_count": 77,
   "metadata": {},
   "outputs": [],
   "source": [
    "def updatethefunc(system, state, t):\n",
    "    \n",
    "    unpack(system)\n",
    "    \n",
    "    fvert = lift(system, state) - m*g\n",
    "    \n",
    "    dvz = fvert*dt / m\n",
    "    dvx = -drag(system, state)*dt / m\n",
    "    \n",
    "    vzf = dvz + state.vz\n",
    "    vxf = dvx + state.vx\n",
    "    \n",
    "    xposf = state.xpos + (state.vx*dt)\n",
    "    zposf = state.zpos + (state.vz*dt)\n",
    "    \n",
    "    alpha1 = launch + aattack - np.arctan(state.vz/state.vx)\n",
    "    \n",
    "    newstate = State(xpos = xposf, zpos = zposf, vx = vxf, vz = vzf, alpha = alpha1)\n",
    "    \n",
    "    \n",
    "    return newstate"
   ]
  },
  {
   "cell_type": "code",
   "execution_count": 78,
   "metadata": {},
   "outputs": [
    {
     "name": "stdout",
     "output_type": "stream",
     "text": [
      "xpos      0.750000\n",
      "zpos      1.000000\n",
      "vx       14.615509\n",
      "vz       -0.255036\n",
      "alpha     0.349066\n",
      "dtype: float64\n"
     ]
    }
   ],
   "source": [
    "print(updatethefunc(system, state, 50))"
   ]
  },
  {
   "cell_type": "code",
   "execution_count": 79,
   "metadata": {},
   "outputs": [],
   "source": [
    "def runsimulation():\n",
    "    state = State(xpos = 0, zpos = 1, vx = system.v0*np.cos(system.launch), \n",
    "                  vz = system.v0*np.sin(system.launch), alpha = system.aattack)\n",
    "    print(state)\n",
    "    frame = TimeFrame(columns = state.index)\n",
    "    frame.row[0] = state\n",
    "    ts = linrange(0, 100, system.dt)\n",
    "    for t in ts:\n",
    "            if frame.row[t].zpos > 0:\n",
    "                frame.row[t+system.dt] = updatethefunc(system, frame.row[t], t)\n",
    "            else: \n",
    "                break\n",
    "    return frame"
   ]
  },
  {
   "cell_type": "code",
   "execution_count": 80,
   "metadata": {},
   "outputs": [
    {
     "name": "stdout",
     "output_type": "stream",
     "text": [
      "xpos      0.000000\n",
      "zpos      1.000000\n",
      "vx       14.772116\n",
      "vz        2.604723\n",
      "alpha     0.174533\n",
      "dtype: float64\n"
     ]
    }
   ],
   "source": [
    "results = runsimulation()"
   ]
  },
  {
   "cell_type": "code",
   "execution_count": 81,
   "metadata": {},
   "outputs": [
    {
     "name": "stdout",
     "output_type": "stream",
     "text": [
      "           xpos      zpos         vx        vz     alpha\n",
      "0.00   0.000000  1.000000  14.772116  2.604723  0.174533\n",
      "0.05   0.738606  1.130236  14.399219  2.342602  0.174533\n",
      "0.10   1.458567  1.247366  14.044910  2.069121  0.187789\n",
      "0.15   2.160812  1.350822  13.707689  1.785756  0.202796\n",
      "0.20   2.846197  1.440110  13.386324  1.493278  0.219521\n",
      "0.25   3.515513  1.514774  13.079695  1.192380  0.237973\n",
      "0.30   4.169498  1.574393  12.786791  0.883691  0.258154\n",
      "0.35   4.808837  1.618578  12.506687  0.567779  0.280066\n",
      "0.40   5.434172  1.646966  12.238541  0.245163  0.303699\n",
      "0.45   6.046099  1.659225  11.981586 -0.083687  0.329036\n",
      "0.50   6.645178  1.655040  11.735115 -0.418343  0.356050\n",
      "0.55   7.231934  1.634123  11.498483 -0.758414  0.384700\n",
      "0.60   7.806858  1.596202  11.271096 -1.103543  0.414928\n",
      "0.65   8.370413  1.541025  11.052407 -1.453406  0.446664\n",
      "0.70   8.923033  1.468355  10.841912 -1.807705  0.479817\n",
      "0.75   9.465129  1.377970  10.639147 -2.166170  0.514279\n",
      "0.80   9.997086  1.269661  10.443681 -2.528555  0.549924\n",
      "0.85  10.519270  1.143233  10.255116 -2.894634  0.586608\n",
      "0.90  11.032026  0.998502  10.073084 -3.264203  0.624171\n",
      "0.95  11.535680  0.835292   9.897242 -3.637077  0.662440\n",
      "1.00  12.030542  0.653438   9.727274 -4.013088  0.701231\n",
      "1.05  12.516906  0.452783   9.562883 -4.392081  0.740353\n",
      "1.10  12.995050  0.233179   9.403796 -4.773919  0.779614\n",
      "1.15  13.465240 -0.005517   9.249757 -5.158477  0.818822\n"
     ]
    }
   ],
   "source": [
    "print(results)"
   ]
  },
  {
   "cell_type": "code",
   "execution_count": 82,
   "metadata": {},
   "outputs": [
    {
     "data": {
      "image/png": "[encoded data removed]",
      "text/plain": [
       "<Figure size 432x288 with 1 Axes>"
      ]
     },
     "metadata": {},
     "output_type": "display_data"
    }
   ],
   "source": [
    "plot(results.zpos, label = 'Z-position')\n",
    "plot(results.xpos, label = 'X-position')\n",
    "decorate(xlabel = 'Time (s)', ylabel = 'Position (m)', title = 'Flight Simulation')"
   ]
  },
  {
   "cell_type": "code",
   "execution_count": 83,
   "metadata": {},
   "outputs": [
    {
     "data": {
      "image/png": "[encoded data removed]",
      "text/plain": [
       "<Figure size 432x288 with 1 Axes>"
      ]
     },
     "metadata": {},
     "output_type": "display_data"
    }
   ],
   "source": [
    "plot(results.xpos, results.zpos)\n",
    "decorate(xlabel = 'X-position (m)', ylabel = 'Z-Position (m)', title = 'Flight Simulation')"
   ]
  },
  {
   "cell_type": "code",
   "execution_count": null,
   "metadata": {},
   "outputs": [],
   "source": []
  },
  {
   "cell_type": "code",
   "execution_count": null,
   "metadata": {},
   "outputs": [],
   "source": []
  }
 ],
 "metadata": {
  "kernelspec": {
   "display_name": "Python 3",
   "language": "python",
   "name": "python3"
  },
  "language_info": {
   "codemirror_mode": {
    "name": "ipython",
    "version": 3
   },
   "file_extension": ".py",
   "mimetype": "text/x-python",
   "name": "python",
   "nbconvert_exporter": "python",
   "pygments_lexer": "ipython3",
   "version": "3.6.6"
  }
 },
 "nbformat": 4,
 "nbformat_minor": 2
}
